{
 "cells": [
  {
   "cell_type": "markdown",
   "id": "f639538a",
   "metadata": {},
   "source": [
    "# BMI Calculator - Using Alex the Analyst example"
   ]
  },
  {
   "cell_type": "code",
   "execution_count": 7,
   "id": "a38f9394",
   "metadata": {},
   "outputs": [
    {
     "name": "stdout",
     "output_type": "stream",
     "text": [
      "What is your name?Bright\n",
      "Enter your weight in kilograms82\n",
      "Enter your height in centimeters183\n",
      "Bright, You are Obese\n"
     ]
    }
   ],
   "source": [
    "# BMI Calculator; experimenting from the video of Alex the Analyst [First run works but gives wrong outputs]\n",
    "\n",
    "\n",
    "# Formula  BMI= weight in kg / height^2 in m\n",
    "name = input(\"What is your name?\")\n",
    "weight = float(input(\"Enter your weight in kilograms\"))\n",
    "height = float(input(\"Enter your height in centimeters\"))/100\n",
    "BMI = weight / height \n",
    "\n",
    "# conditions to check for and output result\n",
    "\n",
    "if BMI > 0 : # checks if input is valid\n",
    "    if BMI < 18.4 :\n",
    "        print(f\"{name}, You are underweight.\")\n",
    "    elif BMI <= 24.9 :\n",
    "        print(f\"{name}, You weight is absolutely normal.\")\n",
    "    elif BMI <= 39.9 :\n",
    "        print(f\"{name}, You are overweight.\")\n",
    "    else:\n",
    "        print(f\"{name}, You are Obese\")\n",
    "else:\n",
    "    print(f\"{name}, Please enter valid inputs\")"
   ]
  },
  {
   "cell_type": "code",
   "execution_count": 3,
   "id": "e1666879",
   "metadata": {},
   "outputs": [
    {
     "data": {
      "text/plain": [
       "24.48565200513601"
      ]
     },
     "execution_count": 3,
     "metadata": {},
     "output_type": "execute_result"
    }
   ],
   "source": [
    "82/(1.83 * 1.83) # experimentation to check for conversion\n"
   ]
  },
  {
   "cell_type": "markdown",
   "id": "35e2ebde",
   "metadata": {},
   "source": [
    "#Inspiration site  https://www.calculatorsoup.com/calculators/health/bmi-calculator.php"
   ]
  },
  {
   "cell_type": "markdown",
   "id": "eddb6532",
   "metadata": {},
   "source": [
    "Adult BMI\n",
    "BMI\tStatus\n",
    "≤ 18.4\tUnderweight\n",
    "18.5 - 24.9\tNormal\n",
    "25.0 - 39.9\tOverweight\n",
    "≥ 40.0\tObese"
   ]
  },
  {
   "cell_type": "code",
   "execution_count": 11,
   "id": "2d633e17",
   "metadata": {},
   "outputs": [
    {
     "name": "stdout",
     "output_type": "stream",
     "text": [
      "What is your name?Bright\n",
      "Enter your weight in kilograms82\n",
      "Enter your height in centimeters183\n",
      "Bright, You weight is absolutely normal.\n"
     ]
    }
   ],
   "source": [
    "# BMI Calculator; experimenting from the video of Alex the Analyst [Run 2-5] - I was not squaring the heights; I also needed to enclose it in parenthesis\n",
    "\n",
    "\n",
    "# Formula  BMI= weight in kg / height^2 in m\n",
    "name = input(\"What is your name?\")\n",
    "weight = float(input(\"Enter your weight in kilograms\"))\n",
    "height = float(input(\"Enter your height in centimeters\"))/100\n",
    "BMI = weight / (height * height)\n",
    "\n",
    "# conditions to check for and output result\n",
    "\n",
    "if BMI > 0 : # checks if input is valid\n",
    "    if BMI < 18.4 :\n",
    "        print(f\"{name}, You are underweight.\")\n",
    "    elif BMI <= 24.9 :\n",
    "        print(f\"{name}, You weight is absolutely normal.\")\n",
    "    elif BMI <= 39.9 :\n",
    "        print(f\"{name}, You are overweight.\")\n",
    "    else:\n",
    "        print(f\"{name}, You are Obese\")\n",
    "else:\n",
    "    print(f\"{name}, Please enter valid inputs\")"
   ]
  },
  {
   "cell_type": "code",
   "execution_count": 12,
   "id": "aa5e0a88",
   "metadata": {},
   "outputs": [
    {
     "name": "stdout",
     "output_type": "stream",
     "text": [
      "24.48565200513601\n"
     ]
    }
   ],
   "source": [
    "print(BMI)"
   ]
  }
 ],
 "metadata": {
  "kernelspec": {
   "display_name": "Python 3 (ipykernel)",
   "language": "python",
   "name": "python3"
  },
  "language_info": {
   "codemirror_mode": {
    "name": "ipython",
    "version": 3
   },
   "file_extension": ".py",
   "mimetype": "text/x-python",
   "name": "python",
   "nbconvert_exporter": "python",
   "pygments_lexer": "ipython3",
   "version": "3.9.12"
  }
 },
 "nbformat": 4,
 "nbformat_minor": 5
}
